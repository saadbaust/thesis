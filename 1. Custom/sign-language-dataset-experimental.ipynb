{
 "cells": [
  {
   "cell_type": "code",
   "execution_count": null,
   "metadata": {
    "_cell_guid": "b1076dfc-b9ad-4769-8c92-a6c4dae69d19",
    "_uuid": "8f2839f25d086af736a60e9eeb907d3b93b6e0e5",
    "execution": {
     "iopub.execute_input": "2025-03-31T12:46:10.648049Z",
     "iopub.status.busy": "2025-03-31T12:46:10.647864Z",
     "iopub.status.idle": "2025-03-31T12:46:22.463416Z",
     "shell.execute_reply": "2025-03-31T12:46:22.462580Z",
     "shell.execute_reply.started": "2025-03-31T12:46:10.648029Z"
    },
    "trusted": true
   },
   "outputs": [],
   "source": [
    "import tensorflow as tf\n",
    "import numpy as np\n",
    "from tensorflow.keras.models import Sequential, Model\n",
    "from tensorflow.keras.layers import *\n",
    "from tensorflow.keras.regularizers import l2\n",
    "from tensorflow.keras.optimizers import SGD, Adam\n",
    "from tensorflow.keras.callbacks import EarlyStopping, ReduceLROnPlateau, ModelCheckpoint\n",
    "import tensorflow.keras.backend as K"
   ]
  },
  {
   "cell_type": "code",
   "execution_count": null,
   "metadata": {
    "execution": {
     "iopub.execute_input": "2025-03-31T12:46:25.510589Z",
     "iopub.status.busy": "2025-03-31T12:46:25.510274Z",
     "iopub.status.idle": "2025-03-31T12:46:25.514125Z",
     "shell.execute_reply": "2025-03-31T12:46:25.513321Z",
     "shell.execute_reply.started": "2025-03-31T12:46:25.510564Z"
    },
    "trusted": true
   },
   "outputs": [],
   "source": [
    "train_dir = \"/kaggle/input/rsbdsl38/RSBDSL38_ver02_aug/RSBDSL38_resized_aug_splitted/train\"\n",
    "test_dir = \"/kaggle/input/rsbdsl38/RSBDSL38_ver02_aug/RSBDSL38_resized_aug_splitted/test\"\n",
    "val_dir = \"/kaggle/input/rsbdsl38/RSBDSL38_ver02_aug/RSBDSL38_resized_aug_splitted/val\""
   ]
  },
  {
   "cell_type": "code",
   "execution_count": null,
   "metadata": {
    "execution": {
     "iopub.execute_input": "2025-03-31T12:46:28.425680Z",
     "iopub.status.busy": "2025-03-31T12:46:28.425356Z",
     "iopub.status.idle": "2025-03-31T12:46:28.428942Z",
     "shell.execute_reply": "2025-03-31T12:46:28.428269Z",
     "shell.execute_reply.started": "2025-03-31T12:46:28.425653Z"
    },
    "trusted": true
   },
   "outputs": [],
   "source": [
    "    img_size = 224\n",
    "    batch_size = 32\n",
    "    initial_lr = 1e-3"
   ]
  },
  {
   "cell_type": "code",
   "execution_count": null,
   "metadata": {
    "execution": {
     "iopub.execute_input": "2025-03-31T12:46:31.822097Z",
     "iopub.status.busy": "2025-03-31T12:46:31.821825Z",
     "iopub.status.idle": "2025-03-31T12:46:44.888613Z",
     "shell.execute_reply": "2025-03-31T12:46:44.887967Z",
     "shell.execute_reply.started": "2025-03-31T12:46:31.822076Z"
    },
    "trusted": true
   },
   "outputs": [],
   "source": [
    "AUTOTUNE = tf.data.AUTOTUNE\n",
    "\n",
    "train_dataset = tf.keras.utils.image_dataset_from_directory(\n",
    "    train_dir,\n",
    "    image_size=(img_size, img_size),\n",
    "    batch_size=batch_size,\n",
    "    label_mode='categorical',\n",
    "    shuffle=True,\n",
    "    color_mode=\"rgb\",\n",
    "    seed=42\n",
    ")\n",
    "val_dataset = tf.keras.utils.image_dataset_from_directory(\n",
    "    val_dir,\n",
    "    image_size=(img_size, img_size),\n",
    "    batch_size=batch_size,\n",
    "    label_mode='categorical',\n",
    "    shuffle=False,\n",
    "    color_mode=\"rgb\",\n",
    "    seed=42\n",
    ")\n",
    "test_dataset = tf.keras.utils.image_dataset_from_directory(\n",
    "    test_dir,\n",
    "    image_size=(img_size, img_size),\n",
    "    batch_size=batch_size,\n",
    "    label_mode='categorical',\n",
    "    shuffle=False,\n",
    "    color_mode=\"rgb\",\n",
    "    seed=42\n",
    ")\n",
    "\n",
    "class_names = train_dataset.class_names\n",
    "num_classes = len(class_names)\n",
    "print(f\"Number of classes: {num_classes}\")\n",
    "\n",
    "\n",
    "data_augmentation = tf.keras.Sequential([\n",
    "    tf.keras.layers.Rescaling(1./255),\n",
    "    tf.keras.layers.RandomRotation(0.1),\n",
    "    tf.keras.layers.RandomTranslation(0.1, 0.1),\n",
    "    tf.keras.layers.RandomZoom(0.08),\n",
    "    tf.keras.layers.RandomContrast(0.1),\n",
    "    tf.keras.layers.RandomBrightness(0.1),\n",
    "])\n",
    "\n",
    "\n",
    "rescale = tf.keras.Sequential([\n",
    "    tf.keras.layers.Rescaling(1./255)\n",
    "])\n",
    "\n",
    "def apply_augmentation(images, labels):\n",
    "    return data_augmentation(images, training=True), labels\n",
    "\n",
    "def apply_rescaling(images, labels):\n",
    "    return rescale(images), labels\n",
    "\n",
    "train_dataset = train_dataset.map(apply_augmentation, num_parallel_calls=AUTOTUNE)\n",
    "val_dataset = val_dataset.map(apply_rescaling, num_parallel_calls=AUTOTUNE)\n",
    "test_dataset = test_dataset.map(apply_rescaling, num_parallel_calls=AUTOTUNE)\n",
    "\n",
    "\n",
    "train_dataset = train_dataset.cache().prefetch(AUTOTUNE)\n",
    "val_dataset = val_dataset.cache().prefetch(AUTOTUNE)\n",
    "test_dataset = test_dataset.cache().prefetch(AUTOTUNE)"
   ]
  },
  {
   "cell_type": "code",
   "execution_count": null,
   "metadata": {
    "execution": {
     "iopub.execute_input": "2025-03-31T12:46:48.593945Z",
     "iopub.status.busy": "2025-03-31T12:46:48.593612Z",
     "iopub.status.idle": "2025-03-31T12:46:48.610570Z",
     "shell.execute_reply": "2025-03-31T12:46:48.609821Z",
     "shell.execute_reply.started": "2025-03-31T12:46:48.593916Z"
    },
    "trusted": true
   },
   "outputs": [],
   "source": [
    "def channel_attention_block(x, ratio=16):\n",
    "    channel = x.shape[-1]\n",
    "    avg_pool = GlobalAveragePooling2D()(x)\n",
    "    avg_pool = Reshape((1, 1, channel))(avg_pool)\n",
    "    max_pool = GlobalMaxPooling2D()(x)\n",
    "    max_pool = Reshape((1, 1, channel))(max_pool)\n",
    "    shared_dense_1 = Dense(channel // ratio, activation='relu', kernel_initializer='he_normal', use_bias=False)\n",
    "    shared_dense_2 = Dense(channel, kernel_initializer='he_normal', use_bias=False)\n",
    "    avg_pool = shared_dense_1(avg_pool)\n",
    "    avg_pool = shared_dense_2(avg_pool)\n",
    "    max_pool = shared_dense_1(max_pool)\n",
    "    max_pool = shared_dense_2(max_pool)\n",
    "    cbam_feature = Add()([avg_pool, max_pool])\n",
    "    cbam_feature = Activation('sigmoid')(cbam_feature)\n",
    "    return Multiply()([x, cbam_feature])\n",
    "\n",
    "def improved_spatial_attention_block(x):\n",
    "    avg_pool = tf.keras.layers.AveragePooling2D(\n",
    "        pool_size=(1, 1), padding='same')(x)\n",
    "    max_pool = tf.keras.layers.MaxPooling2D(\n",
    "        pool_size=(1, 1), padding='same')(x)\n",
    "    \n",
    "    concat = Concatenate(axis=3)([avg_pool, max_pool])\n",
    "    conv1 = Conv2D(8, 3, padding='same', dilation_rate=1, kernel_initializer='he_normal')(concat)\n",
    "    conv2 = Conv2D(8, 3, padding='same', dilation_rate=2, kernel_initializer='he_normal')(concat)\n",
    "    conv3 = Conv2D(8, 3, padding='same', dilation_rate=4, kernel_initializer='he_normal')(concat)\n",
    "    multi_scale = Concatenate()([conv1, conv2, conv3])\n",
    "    multi_scale = Conv2D(1, 1, padding='same', activation='sigmoid', kernel_initializer='he_normal')(multi_scale)\n",
    "    return Multiply()([x, multi_scale])\n",
    "\n",
    "\n",
    "def enhanced_residual_block(x, filters, kernel_size=3, strides=1, use_projection=False, groups=1):\n",
    "    shortcut = x\n",
    "    bottleneck_filters = filters // 2\n",
    "    x = Conv2D(bottleneck_filters, 1, padding='same', kernel_initializer='he_normal', kernel_regularizer=l2(1e-5))(x)\n",
    "    x = BatchNormalization()(x)\n",
    "    x = Activation('swish')(x)\n",
    "    x = Conv2D(bottleneck_filters, kernel_size, strides=strides, padding='same', groups=groups, kernel_initializer='he_normal', kernel_regularizer=l2(1e-5))(x)\n",
    "    x = BatchNormalization()(x)\n",
    "    x = Activation('swish')(x)\n",
    "    x = Conv2D(filters, 1, padding='same', kernel_initializer='he_normal', kernel_regularizer=l2(1e-5))(x)\n",
    "    x = BatchNormalization()(x)\n",
    "    x = channel_attention_block(x)\n",
    "    spatial_att = Conv2D(1, 7, padding='same', activation='sigmoid', kernel_initializer='he_normal', use_bias=False)(x)\n",
    "    x = Multiply()([x, spatial_att])\n",
    "    if use_projection or strides > 1 or shortcut.shape[-1] != filters:\n",
    "        shortcut = Conv2D(filters, 1, strides=strides, padding='same', kernel_initializer='he_normal', kernel_regularizer=l2(1e-5))(shortcut)\n",
    "        shortcut = BatchNormalization()(shortcut)\n",
    "    x = Add()([x, shortcut])\n",
    "    x = Activation('swish')(x)\n",
    "    return x\n",
    "\n",
    "\n",
    "def hand_feature_block(x, filters, dropout_rate=0.1):\n",
    "    x = Conv2D(filters, 1, padding='same', kernel_initializer='he_normal')(x)\n",
    "    x = BatchNormalization()(x)\n",
    "    x = Activation('swish')(x)\n",
    "    dw1 = DepthwiseConv2D(kernel_size=3, padding='same', depthwise_initializer='he_normal')(x)\n",
    "    dw1 = BatchNormalization()(dw1)\n",
    "    dw1 = Activation('swish')(dw1)\n",
    "    dw2 = DepthwiseConv2D(kernel_size=5, padding='same', depthwise_initializer='he_normal')(x)\n",
    "    dw2 = BatchNormalization()(dw2)\n",
    "    dw2 = Activation('swish')(dw2)\n",
    "    concat = Concatenate()([dw1, dw2])\n",
    "    x = Conv2D(filters, 1, padding='same', kernel_initializer='he_normal')(concat)\n",
    "    x = BatchNormalization()(x)\n",
    "    x = Activation('swish')(x)\n",
    "    x = SpatialDropout2D(dropout_rate)(x)\n",
    "    return x\n",
    "\n",
    "def create_sign_language_model(input_shape, num_classes):\n",
    "    inputs = Input(shape=input_shape)\n",
    "    x = Conv2D(32, 5, strides=2, padding='same', kernel_initializer='he_normal', kernel_regularizer=l2(1e-5))(inputs)\n",
    "    x = BatchNormalization()(x)\n",
    "    x = Activation('swish')(x)\n",
    "    x = MaxPooling2D(pool_size=3, strides=2, padding='same')(x)\n",
    "    x = enhanced_residual_block(x, 32, use_projection=True, groups=2)\n",
    "    x = enhanced_residual_block(x, 32, groups=2)\n",
    "    x = hand_feature_block(x, 32, dropout_rate=0.1)\n",
    "    x = MaxPooling2D(pool_size=2)(x)\n",
    "    \n",
    "    x = enhanced_residual_block(x, 64, use_projection=True, groups=4)\n",
    "    x = enhanced_residual_block(x, 64, groups=4)\n",
    "    x = hand_feature_block(x, 64, dropout_rate=0.15)\n",
    "    x = MaxPooling2D(pool_size=2)(x)\n",
    "    \n",
    "    x = enhanced_residual_block(x, 128, use_projection=True, groups=8)\n",
    "    x = enhanced_residual_block(x, 128, groups=8)\n",
    "    x = enhanced_residual_block(x, 128, groups=8)\n",
    "    x = hand_feature_block(x, 128, dropout_rate=0.2)\n",
    "    \n",
    "    x = enhanced_residual_block(x, 256, use_projection=True, groups=16)\n",
    "    x = enhanced_residual_block(x, 256, groups=16)\n",
    "    x = hand_feature_block(x, 256, dropout_rate=0.25)\n",
    "\n",
    "    max_pool = GlobalMaxPooling2D()(x)\n",
    "    avg_pool = GlobalAveragePooling2D()(x)\n",
    "    weighted_pool = Concatenate()([max_pool, avg_pool])\n",
    "    \n",
    "    x = Dropout(0.4)(weighted_pool)\n",
    "    x = Dense(128, kernel_regularizer=l2(1e-5), activation='swish')(x)\n",
    "    x = BatchNormalization()(x)\n",
    "    x = Dropout(0.3)(x)\n",
    "    x = Dense(64, kernel_regularizer=l2(1e-5), activation='swish')(x)\n",
    "    x = BatchNormalization()(x)\n",
    "    \n",
    "    outputs = Dense(num_classes, activation='softmax')(x)\n",
    "    model = Model(inputs=inputs, outputs=outputs, name='Enhanced_Bengali_Sign_Model')\n",
    "    return model"
   ]
  },
  {
   "cell_type": "code",
   "execution_count": null,
   "metadata": {
    "execution": {
     "iopub.execute_input": "2025-03-31T12:47:03.157102Z",
     "iopub.status.busy": "2025-03-31T12:47:03.156785Z",
     "iopub.status.idle": "2025-03-31T12:47:05.030958Z",
     "shell.execute_reply": "2025-03-31T12:47:05.030098Z",
     "shell.execute_reply.started": "2025-03-31T12:47:03.157074Z"
    },
    "trusted": true
   },
   "outputs": [],
   "source": [
    "input_shape = (img_size, img_size, 3)\n",
    "model = create_sign_language_model(input_shape, num_classes)"
   ]
  },
  {
   "cell_type": "code",
   "execution_count": null,
   "metadata": {
    "execution": {
     "iopub.execute_input": "2025-03-31T12:47:07.334988Z",
     "iopub.status.busy": "2025-03-31T12:47:07.334674Z",
     "iopub.status.idle": "2025-03-31T12:47:07.587068Z",
     "shell.execute_reply": "2025-03-31T12:47:07.586267Z",
     "shell.execute_reply.started": "2025-03-31T12:47:07.334961Z"
    },
    "trusted": true
   },
   "outputs": [],
   "source": [
    "print(\"\\nEnhanced_Bengali_Sign_Model Summary:\")\n",
    "model.summary()"
   ]
  },
  {
   "cell_type": "code",
   "execution_count": null,
   "metadata": {
    "execution": {
     "iopub.execute_input": "2025-03-31T12:47:19.392937Z",
     "iopub.status.busy": "2025-03-31T12:47:19.392630Z",
     "iopub.status.idle": "2025-03-31T12:47:19.406931Z",
     "shell.execute_reply": "2025-03-31T12:47:19.406176Z",
     "shell.execute_reply.started": "2025-03-31T12:47:19.392915Z"
    },
    "trusted": true
   },
   "outputs": [],
   "source": [
    "def get_callbacks(model_name):\n",
    "    return [\n",
    "        ModelCheckpoint(\n",
    "            f'/kaggle/working/best_{model_name}.keras', \n",
    "            monitor='val_accuracy', \n",
    "            save_best_only=True, \n",
    "            mode='max', \n",
    "            verbose=1\n",
    "        ),\n",
    "        EarlyStopping(\n",
    "            monitor='val_accuracy',\n",
    "            patience=25,\n",
    "            restore_best_weights=True,\n",
    "            verbose=1\n",
    "        ),\n",
    "        ReduceLROnPlateau(\n",
    "            monitor='val_loss',\n",
    "            factor=0.5,\n",
    "            patience=10,\n",
    "            min_lr=1e-6,\n",
    "            verbose=1\n",
    "        )\n",
    "    ]\n",
    "\n",
    "callbacks = get_callbacks(\"Enhanced_Bengali_Sign_Model\")\n",
    "model.compile(optimizer=Adam(learning_rate=initial_lr), loss='categorical_crossentropy',metrics=['accuracy'])"
   ]
  },
  {
   "cell_type": "code",
   "execution_count": null,
   "metadata": {
    "execution": {
     "iopub.execute_input": "2025-03-31T12:47:23.247494Z",
     "iopub.status.busy": "2025-03-31T12:47:23.247157Z"
    },
    "trusted": true
   },
   "outputs": [],
   "source": [
    "print(\"\\nTraining Enhanced_Bengali_Sign_Model...\")\n",
    "history = model.fit(train_dataset, epochs=200, validation_data=val_dataset, callbacks=callbacks)"
   ]
  },
  {
   "cell_type": "code",
   "execution_count": null,
   "metadata": {
    "execution": {
     "iopub.execute_input": "2025-03-31T09:41:15.673304Z",
     "iopub.status.busy": "2025-03-31T09:41:15.673009Z",
     "iopub.status.idle": "2025-03-31T09:41:16.462495Z",
     "shell.execute_reply": "2025-03-31T09:41:16.461791Z",
     "shell.execute_reply.started": "2025-03-31T09:41:15.673281Z"
    },
    "trusted": true
   },
   "outputs": [],
   "source": [
    "import numpy as np\n",
    "from sklearn.metrics import classification_report, confusion_matrix, accuracy_score, precision_score, recall_score, f1_score\n",
    "import matplotlib.pyplot as plt\n",
    "import seaborn as sns\n",
    "import tensorflow as tf\n",
    "\n",
    "def evaluate_model(model, history, name, test_dataset):\n",
    "    print(f\"\\nEvaluating {name}...\")\n",
    "    test_loss, test_acc = model.evaluate(test_dataset)\n",
    "    print(f\"Test accuracy: {test_acc:.4f}\")\n",
    "    \n",
    "    y_pred_prob = model.predict(test_dataset)\n",
    "    y_pred = np.argmax(y_pred_prob, axis=1)\n",
    "    \n",
    "\n",
    "    y_true = []\n",
    "    for images, labels in test_dataset.unbatch():\n",
    "        if len(labels.shape) > 0 and labels.shape[0] > 1:\n",
    "            y_true.append(tf.argmax(labels).numpy())\n",
    "        else:\n",
    "            y_true.append(int(labels.numpy()))\n",
    "    \n",
    "    y_true = np.array(y_true[:len(y_pred)])\n",
    "    \n",
    "    accuracy = accuracy_score(y_true, y_pred)\n",
    "    precision = precision_score(y_true, y_pred, average='weighted')\n",
    "    recall = recall_score(y_true, y_pred, average='weighted')\n",
    "    f1 = f1_score(y_true, y_pred, average='weighted')\n",
    "    \n",
    "    print(f\"Accuracy: {accuracy:.4f}\")\n",
    "    print(f\"Precision: {precision:.4f}\")\n",
    "    print(f\"Recall: {recall:.4f}\")\n",
    "    print(f\"F1 Score: {f1:.4f}\")\n",
    "    \n",
    "    print(\"\\nClassification Report:\")\n",
    "    print(classification_report(y_true, y_pred))\n",
    "    \n",
    "    plt.figure(figsize=(12, 10))\n",
    "    cm = confusion_matrix(y_true, y_pred)\n",
    "    sns.heatmap(cm, annot=False, cmap='Blues', cbar=True)\n",
    "    plt.title(f\"Confusion Matrix - {name}\", fontsize=16)\n",
    "    plt.xlabel('Predicted', fontsize=12)\n",
    "    plt.ylabel('True', fontsize=12)\n",
    "    plt.tight_layout()\n",
    "    plt.savefig(f'/kaggle/working/confusion_matrix_{name.replace(\" \", \"_\")}.png')\n",
    "    plt.close()\n",
    "    \n",
    "    plt.figure(figsize=(12, 5))\n",
    "    \n",
    "    plt.subplot(1, 2, 1)\n",
    "    plt.plot(history.history['loss'], color='darkorange', label='Training')\n",
    "    plt.plot(history.history['val_loss'], color='blue', label='Validation')\n",
    "    plt.title(f'Loss vs Epochs - {name}', fontsize=14)\n",
    "    plt.xlabel('Epochs', fontsize=12)\n",
    "    plt.ylabel('Loss', fontsize=12)\n",
    "    plt.legend(fontsize=10)\n",
    "    plt.grid(True, linestyle='--', alpha=0.6)\n",
    "    \n",
    "    plt.subplot(1, 2, 2)\n",
    "    plt.plot(history.history['accuracy'], color='darkorange', label='Training')\n",
    "    plt.plot(history.history['val_accuracy'], color='blue', label='Validation')\n",
    "    plt.title(f'Accuracy vs Epochs - {name}', fontsize=14)\n",
    "    plt.xlabel('Epochs', fontsize=12)\n",
    "    plt.ylabel('Accuracy', fontsize=12)\n",
    "    plt.legend(fontsize=10)\n",
    "    plt.grid(True, linestyle='--', alpha=0.6)\n",
    "    \n",
    "    plt.tight_layout()\n",
    "    plt.savefig(f'/kaggle/working/training_history_{name.replace(\" \", \"_\")}.png')\n",
    "    plt.close()\n",
    "    \n",
    "    return accuracy, y_true, y_pred, y_pred_prob"
   ]
  },
  {
   "cell_type": "code",
   "execution_count": null,
   "metadata": {
    "execution": {
     "iopub.execute_input": "2025-03-31T12:36:46.542690Z",
     "iopub.status.busy": "2025-03-31T12:36:46.542326Z",
     "iopub.status.idle": "2025-03-31T12:37:05.354275Z",
     "shell.execute_reply": "2025-03-31T12:37:05.353364Z",
     "shell.execute_reply.started": "2025-03-31T12:36:46.542664Z"
    },
    "trusted": true
   },
   "outputs": [],
   "source": [
    "acc1, y_true1, y_pred1, y_pred_prob1 = evaluate_model(model, history, \"Enhanced_Bengali_Sign_Model\", test_dataset)"
   ]
  }
 ],
 "metadata": {
  "kaggle": {
   "accelerator": "nvidiaTeslaT4",
   "dataSources": [
    {
     "datasetId": 6810654,
     "sourceId": 10949286,
     "sourceType": "datasetVersion"
    }
   ],
   "dockerImageVersionId": 30919,
   "isGpuEnabled": true,
   "isInternetEnabled": true,
   "language": "python",
   "sourceType": "notebook"
  },
  "kernelspec": {
   "display_name": "Python 3",
   "language": "python",
   "name": "python3"
  },
  "language_info": {
   "codemirror_mode": {
    "name": "ipython",
    "version": 3
   },
   "file_extension": ".py",
   "mimetype": "text/x-python",
   "name": "python",
   "nbconvert_exporter": "python",
   "pygments_lexer": "ipython3",
   "version": "3.10.12"
  }
 },
 "nbformat": 4,
 "nbformat_minor": 4
}
